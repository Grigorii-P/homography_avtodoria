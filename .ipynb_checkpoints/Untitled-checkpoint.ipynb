{
 "cells": [
  {
   "cell_type": "code",
   "execution_count": 1,
   "metadata": {},
   "outputs": [
    {
     "name": "stdout",
     "output_type": "stream",
     "text": [
      "average time - 0.000656482458114624 sec\n"
     ]
    }
   ],
   "source": [
    "import numpy as np\n",
    "import matplotlib.pyplot as plt\n",
    "import json\n",
    "import cv2\n",
    "import os\n",
    "from time import time\n",
    "from os.path import join\n",
    "from annoy import AnnoyIndex\n",
    "from itertools import combinations_with_replacement as cwr\n",
    "import itertools\n",
    "\n",
    "path_to_imgs = '../repers/plates1000'\n",
    "path_to_save = '../repers/binary'\n",
    "\n",
    "#TODO нормализация, выравнивание изображения\n",
    "\n",
    "# _, cnts, _ = cv2.findContours(img.copy(), cv2.RETR_LIST, cv2.CHAIN_APPROX_SIMPLE)\n",
    "\n",
    "# for c in cnts:\n",
    "#     peri = cv2.arcLength(c, True)\n",
    "#     approx = cv2.approxPolyDP(c, 0.02 * peri, True)\n",
    "#     x, y, w, h = cv2.boundingRect(approx)\n",
    "#     cv2.rectangle(img, (x, y), (x + w, y + h), (100, 100, 100), 1)\n",
    "#     # if h >= 15:\n",
    "#     #     # if height is enough\n",
    "#     #     # create rectangle for bounding\n",
    "#     #     rect = (x, y, w, h)\n",
    "#     #     rects.append(rect)\n",
    "#     #     cv2.rectangle(roi_copy, (x, y), (x+w, y+h), (0, 255, 0), 1)\n",
    "\n",
    "# # cv2.rectangle(img, (5, 5), (25, 25), (100, 100, 100), 1)\n",
    "# cv2.imwrite(path_to_save, img)\n",
    "\n",
    "path_to_imgs = '/home/grigorii/Desktop/momentum_speed/repers/annoy_test'\n",
    "\n",
    "\n",
    "imgs_size = (150,30)\n",
    "search_w, search_h = 30, 30\n",
    "num_trees = 10\n",
    "\n",
    "im_src = cv2.imread(join(path_to_imgs, 'B418EY716@_13.jpg'), 0)\n",
    "im_dst = cv2.imread(join(path_to_imgs, 'B418EY716@_14.jpg'), 0)\n",
    "im_src = cv2.resize(im_src, imgs_size)\n",
    "im_dst = cv2.resize(im_dst, imgs_size)\n",
    "w = im_src.shape[1]\n",
    "h = im_src.shape[0]\n",
    "\n",
    "f = search_w * search_h\n",
    "t = AnnoyIndex(f)\n",
    "offset = w * h // f\n",
    "\n",
    "t0 = time()\n",
    "num = 1000\n",
    "for i in range(num):\n",
    "    ind_1, ind_2 = 0, offset\n",
    "    ind_1_list = []\n",
    "    ind_2_list = []\n",
    "    for i in range(0, w, search_w):\n",
    "        for j in range(0, h, search_h):\n",
    "            t.add_item(ind_1, im_src[j:j+search_h, i:i+search_w].flatten())\n",
    "            ind_1_list.append(ind_1)\n",
    "            ind_1 += 1\n",
    "            # temp = im_dst[j:j+search_h, i:i+search_w]\n",
    "            # temp = cv2.resize(temp, (100, 100))\n",
    "            # cv2.imshow('temp', temp)\n",
    "            # cv2.waitKey(0)\n",
    "            t.add_item(ind_2, im_dst[j:j+search_h, i:i+search_w].flatten())\n",
    "            ind_2_list.append(ind_2)\n",
    "            ind_2 += 1\n",
    "    t.build(num_trees)\n",
    "    # t.save('../repers/annoy_test/test.ann')\n",
    "\n",
    "    combinations = list(itertools.product(ind_1_list, ind_2_list))\n",
    "    distances = {}\n",
    "    for combo in combinations:\n",
    "        dist = t.get_distance(combo[0], combo[1])\n",
    "        distances[combo] = dist\n",
    "    combs_sorted_by_dist = sorted(distances.items(), key=lambda kv: kv[1])\n",
    "    best = combs_sorted_by_dist[-1]\n",
    "\n",
    "print('average time - {} sec'.format((time()-t0)/num))"
   ]
  },
  {
   "cell_type": "code",
   "execution_count": null,
   "metadata": {},
   "outputs": [],
   "source": [
    "    "
   ]
  }
 ],
 "metadata": {
  "kernelspec": {
   "display_name": "Python 3",
   "language": "python",
   "name": "python3"
  },
  "language_info": {
   "codemirror_mode": {
    "name": "ipython",
    "version": 3
   },
   "file_extension": ".py",
   "mimetype": "text/x-python",
   "name": "python",
   "nbconvert_exporter": "python",
   "pygments_lexer": "ipython3",
   "version": "3.6.5"
  }
 },
 "nbformat": 4,
 "nbformat_minor": 2
}
