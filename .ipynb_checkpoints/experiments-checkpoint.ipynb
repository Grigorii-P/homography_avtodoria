{
 "cells": [
  {
   "cell_type": "code",
   "execution_count": 1,
   "metadata": {},
   "outputs": [],
   "source": [
    "import cv2\n",
    "import numpy as np\n",
    "import pandas as pd"
   ]
  },
  {
   "cell_type": "markdown",
   "metadata": {},
   "source": [
    "\n",
    "\\[\n",
    "  h=\n",
    "  \\left[ {\\begin{array}{ccc}\n",
    "   h_{11} & h_{12} & h_{13}\\\\\n",
    "   h_{21} & h_{22} & h_{23}\\\\\n",
    "   h_{31} & h_{32} & h_{33}\\\\\n",
    "  \\end{array} } \\right]\n",
    "\\]\n",
    "\n",
    "\n",
    "\n",
    "$x'=h_{11}x+h_{12}y+h_{13}$\n",
    "\n",
    "$y'=h_{21}x+h_{22}y+h_{23}$\n"
   ]
  },
  {
   "cell_type": "code",
   "execution_count": null,
   "metadata": {},
   "outputs": [],
   "source": []
  }
 ],
 "metadata": {
  "kernelspec": {
   "display_name": "Python 3",
   "language": "python",
   "name": "python3"
  },
  "language_info": {
   "codemirror_mode": {
    "name": "ipython",
    "version": 3
   },
   "file_extension": ".py",
   "mimetype": "text/x-python",
   "name": "python",
   "nbconvert_exporter": "python",
   "pygments_lexer": "ipython3",
   "version": "3.6.5"
  }
 },
 "nbformat": 4,
 "nbformat_minor": 2
}
